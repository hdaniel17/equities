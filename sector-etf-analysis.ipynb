{
 "cells": [
  {
   "cell_type": "code",
   "execution_count": 47,
   "id": "initial_id",
   "metadata": {
    "collapsed": true,
    "ExecuteTime": {
     "end_time": "2024-10-11T04:51:33.218478Z",
     "start_time": "2024-10-11T04:51:33.213556Z"
    }
   },
   "outputs": [],
   "source": [
    "import pandas as pd \n",
    "import numpy as np\n",
    "from datetime import datetime, timedelta\n",
    "import matplotlib.pyplot as plt\n",
    "import mplfinance as mpf\n",
    "import yfinance as yf\n",
    "import time\n",
    "from selenium import webdriver\n",
    "from selenium.webdriver.common.by import By\n",
    "from selenium.webdriver.support import expected_conditions as EC\n",
    "import os\n",
    "from selenium.webdriver.common.action_chains import ActionChains\n",
    "from selenium.webdriver.support.wait import WebDriverWait"
   ]
  },
  {
   "cell_type": "code",
   "outputs": [],
   "source": [
    "ticker = 'XLU'\n",
    "url = f'https://www.sectorspdrs.com/mainfund/{ticker}'"
   ],
   "metadata": {
    "collapsed": false,
    "ExecuteTime": {
     "end_time": "2024-10-11T04:51:33.243836Z",
     "start_time": "2024-10-11T04:51:33.239666Z"
    }
   },
   "id": "9a522217360407bb",
   "execution_count": 48
  },
  {
   "cell_type": "code",
   "outputs": [],
   "source": [
    "def highlight_xpath(xpath, driver):\n",
    "    driver.execute_script(\"arguments[0].style.backgroundColor = 'red'\", xpath)\n",
    "    \n",
    "def scroll_to_xpath(xpath, driver):\n",
    "    actions = ActionChains(driver)\n",
    "    actions.move_to_element(xpath).perform()"
   ],
   "metadata": {
    "collapsed": false,
    "ExecuteTime": {
     "end_time": "2024-10-11T04:51:33.256802Z",
     "start_time": "2024-10-11T04:51:33.246108Z"
    }
   },
   "id": "e5543ecef885403b",
   "execution_count": 49
  },
  {
   "cell_type": "code",
   "outputs": [],
   "source": [
    "options = webdriver.ChromeOptions()  # Changes default download path\n",
    "file_path = os.path.join(os.getcwd(), 'Data')\n",
    "prefs = {\"download.default_directory\" : file_path}\n",
    "options.add_experimental_option(\"prefs\", prefs)\n",
    "\n",
    "options.add_argument(\"--headless=new\")  # Currently a bug - blank white pop up\n",
    "options.add_argument(\"--window-position=-2400,-2400\")  # Move pop up off screen\n",
    "\n",
    "cService = webdriver.ChromeService(executable_path=os.environ['ChromePath'])  # Chrome Driver path stored in env var\n",
    "driver = webdriver.Chrome(service=cService, options=options)\n",
    "\n",
    "driver.get(url)\n",
    "\n",
    "#button = driver.find_element(By.XPATH,'//*[@id=\"__BVID__115\"]/div/div[1]/div[2]/button[1]')\n",
    "WebDriverWait(driver, 30).until(EC.element_to_be_clickable((By.XPATH, \"\"\"//*[@id=\"__BVID__115\"]/div/div[1]/div[2]/button[1]\"\"\")))\n",
    "button = driver.find_element(By.XPATH,'//*[@id=\"__BVID__115\"]/div/div[1]/div[2]/button[1]')\n",
    "scroll_to_xpath(button, driver)\n",
    "#highlight_xpath(button, driver)\n",
    "button.click()\n",
    "\n",
    "# Wait for file to be downloaded\n",
    "t = 0\n",
    "while not os.path.isfile(f'Data/index-holdings-{ticker.lower()}.csv'):\n",
    "    time.sleep(0.01)\n",
    "    if t >= 3 * 100:\n",
    "        print(\"File not found within time\")\n",
    "        time.sleep(1)\n",
    "        break\n",
    "    t += 1\n",
    "\n",
    "driver.quit()"
   ],
   "metadata": {
    "collapsed": false,
    "ExecuteTime": {
     "end_time": "2024-10-11T04:51:43.705020Z",
     "start_time": "2024-10-11T04:51:33.270980Z"
    }
   },
   "id": "78477e011e856b3f",
   "execution_count": 50
  },
  {
   "cell_type": "code",
   "outputs": [
    {
     "data": {
      "text/plain": "   Symbol                   Company Name Index Weight    Last  Change %Change  \\\n0     NEE             NextEra Energy Inc       13.89%   80.94    0.36  +0.45%   \n1      SO                    Southern Co        8.06%   88.26   -0.67  -0.75%   \n2     DUK               Duke Energy Corp        7.30%  113.12    1.80  +1.62%   \n3     CEG      Constellation Energy Corp        6.85%  262.31    0.03  +0.01%   \n4     AEP        American Electric Power        4.32%   97.22   -0.50  -0.51%   \n5     SRE                         Sempra        4.30%   81.33   -0.19  -0.23%   \n6       D            Dominion Energy Inc        3.89%   55.49   -0.89  -1.58%   \n7     PEG  Public Service Enterprise Grp        3.69%   88.70   -1.34  -1.49%   \n8     VST                   Vistra Corp.        3.56%  124.11   -0.07  -0.06%   \n9     PCG               PG&E Corporation        3.49%   19.55   -0.01  -0.05%   \n10    EXC                    Exelon Corp        3.28%   39.27   -0.33  -0.83%   \n11     ED        Consolidated Edison Inc        2.93%  101.58   -0.79  -0.77%   \n12    XEL                Xcel Energy Inc        2.90%   62.16   -0.42  -0.67%   \n13    EIX                    Edison Intl        2.68%   83.01   -1.44  -1.71%   \n14    WEC           WEC Energy Group Inc        2.48%   93.95   -0.36  -0.38%   \n15    ETR                   Entergy Corp        2.31%  129.06   -0.99  -0.76%   \n16    AWK    American Water Works Co Inc        2.22%  136.22    0.04  +0.03%   \n17    DTE                  DTE Energy Co        2.14%  123.68   -0.84  -0.67%   \n18    PPL                       PPL Corp        1.94%   31.47   -0.38  -1.19%   \n19    AEE                    Ameren Corp        1.91%   85.81   -0.57  -0.66%   \n20     ES              Eversource Energy        1.91%   63.86    0.47  +0.74%   \n21     FE               FirstEnergy Corp        1.81%   42.33   -0.22  -0.52%   \n22    ATO              Atmos Energy Corp        1.79%  138.20    0.16  +0.12%   \n23    CMS                CMS Energy Corp        1.73%   69.14   -0.48  -0.69%   \n24    CNP         Centerpoint Energy Inc        1.61%   29.49    0.00   0.00%   \n25    NRG                     NRG Energy        1.51%   87.60   -0.96  -1.08%   \n26     NI                   Nisource Inc        1.26%   33.74   -0.25  -0.74%   \n27    LNT            Alliant Energy Corp        1.26%   58.98   -0.58  -0.97%   \n28   EVRG                    Evergy Inc.        1.13%   59.06   -0.51  -0.86%   \n29    AES                       AES Corp        1.03%   17.33   -0.36  -2.04%   \n30    PNW     Pinnacle West Capital (AZ)        0.81%   85.52   -0.67  -0.78%   \n\n    Volume    52 Week Range  \n0   7.93 M    50.95 - 86.10  \n1   3.29 M    64.53 - 91.87  \n2    6.3 M   85.79 - 118.31  \n3   2.73 M  109.44 - 288.75  \n4   1.67 M   72.01 - 105.18  \n5   2.05 M    66.40 - 84.47  \n6   5.51 M    39.18 - 58.94  \n7   2.49 M    56.85 - 92.20  \n8   5.84 M   31.40 - 143.87  \n9   7.05 M    15.59 - 20.65  \n10  4.01 M    33.35 - 41.48  \n11  1.18 M   85.15 - 105.99  \n12  2.28 M    46.79 - 65.64  \n13  1.83 M    61.64 - 88.77  \n14  3.26 M    75.13 - 97.08  \n15  1.15 M   90.78 - 133.38  \n16  0.88 M  113.34 - 150.68  \n17  0.79 M   92.58 - 129.53  \n18  6.52 M    23.36 - 33.39  \n19  1.19 M    67.03 - 88.11  \n20  2.09 M    52.03 - 69.01  \n21  2.05 M    34.73 - 44.97  \n22  0.58 M  105.45 - 140.04  \n23  1.49 M    52.12 - 71.57  \n24   5.7 M    25.41 - 31.57  \n25  1.83 M    39.98 - 96.40  \n26  1.79 M    24.58 - 35.10  \n27   1.1 M    46.80 - 61.09  \n28   1.6 M    47.46 - 62.58  \n29  7.46 M    12.87 - 22.21  \n30  0.66 M    65.20 - 91.57  ",
      "text/html": "<div>\n<style scoped>\n    .dataframe tbody tr th:only-of-type {\n        vertical-align: middle;\n    }\n\n    .dataframe tbody tr th {\n        vertical-align: top;\n    }\n\n    .dataframe thead th {\n        text-align: right;\n    }\n</style>\n<table border=\"1\" class=\"dataframe\">\n  <thead>\n    <tr style=\"text-align: right;\">\n      <th></th>\n      <th>Symbol</th>\n      <th>Company Name</th>\n      <th>Index Weight</th>\n      <th>Last</th>\n      <th>Change</th>\n      <th>%Change</th>\n      <th>Volume</th>\n      <th>52 Week Range</th>\n    </tr>\n  </thead>\n  <tbody>\n    <tr>\n      <th>0</th>\n      <td>NEE</td>\n      <td>NextEra Energy Inc</td>\n      <td>13.89%</td>\n      <td>80.94</td>\n      <td>0.36</td>\n      <td>+0.45%</td>\n      <td>7.93 M</td>\n      <td>50.95 - 86.10</td>\n    </tr>\n    <tr>\n      <th>1</th>\n      <td>SO</td>\n      <td>Southern Co</td>\n      <td>8.06%</td>\n      <td>88.26</td>\n      <td>-0.67</td>\n      <td>-0.75%</td>\n      <td>3.29 M</td>\n      <td>64.53 - 91.87</td>\n    </tr>\n    <tr>\n      <th>2</th>\n      <td>DUK</td>\n      <td>Duke Energy Corp</td>\n      <td>7.30%</td>\n      <td>113.12</td>\n      <td>1.80</td>\n      <td>+1.62%</td>\n      <td>6.3 M</td>\n      <td>85.79 - 118.31</td>\n    </tr>\n    <tr>\n      <th>3</th>\n      <td>CEG</td>\n      <td>Constellation Energy Corp</td>\n      <td>6.85%</td>\n      <td>262.31</td>\n      <td>0.03</td>\n      <td>+0.01%</td>\n      <td>2.73 M</td>\n      <td>109.44 - 288.75</td>\n    </tr>\n    <tr>\n      <th>4</th>\n      <td>AEP</td>\n      <td>American Electric Power</td>\n      <td>4.32%</td>\n      <td>97.22</td>\n      <td>-0.50</td>\n      <td>-0.51%</td>\n      <td>1.67 M</td>\n      <td>72.01 - 105.18</td>\n    </tr>\n    <tr>\n      <th>5</th>\n      <td>SRE</td>\n      <td>Sempra</td>\n      <td>4.30%</td>\n      <td>81.33</td>\n      <td>-0.19</td>\n      <td>-0.23%</td>\n      <td>2.05 M</td>\n      <td>66.40 - 84.47</td>\n    </tr>\n    <tr>\n      <th>6</th>\n      <td>D</td>\n      <td>Dominion Energy Inc</td>\n      <td>3.89%</td>\n      <td>55.49</td>\n      <td>-0.89</td>\n      <td>-1.58%</td>\n      <td>5.51 M</td>\n      <td>39.18 - 58.94</td>\n    </tr>\n    <tr>\n      <th>7</th>\n      <td>PEG</td>\n      <td>Public Service Enterprise Grp</td>\n      <td>3.69%</td>\n      <td>88.70</td>\n      <td>-1.34</td>\n      <td>-1.49%</td>\n      <td>2.49 M</td>\n      <td>56.85 - 92.20</td>\n    </tr>\n    <tr>\n      <th>8</th>\n      <td>VST</td>\n      <td>Vistra Corp.</td>\n      <td>3.56%</td>\n      <td>124.11</td>\n      <td>-0.07</td>\n      <td>-0.06%</td>\n      <td>5.84 M</td>\n      <td>31.40 - 143.87</td>\n    </tr>\n    <tr>\n      <th>9</th>\n      <td>PCG</td>\n      <td>PG&amp;E Corporation</td>\n      <td>3.49%</td>\n      <td>19.55</td>\n      <td>-0.01</td>\n      <td>-0.05%</td>\n      <td>7.05 M</td>\n      <td>15.59 - 20.65</td>\n    </tr>\n    <tr>\n      <th>10</th>\n      <td>EXC</td>\n      <td>Exelon Corp</td>\n      <td>3.28%</td>\n      <td>39.27</td>\n      <td>-0.33</td>\n      <td>-0.83%</td>\n      <td>4.01 M</td>\n      <td>33.35 - 41.48</td>\n    </tr>\n    <tr>\n      <th>11</th>\n      <td>ED</td>\n      <td>Consolidated Edison Inc</td>\n      <td>2.93%</td>\n      <td>101.58</td>\n      <td>-0.79</td>\n      <td>-0.77%</td>\n      <td>1.18 M</td>\n      <td>85.15 - 105.99</td>\n    </tr>\n    <tr>\n      <th>12</th>\n      <td>XEL</td>\n      <td>Xcel Energy Inc</td>\n      <td>2.90%</td>\n      <td>62.16</td>\n      <td>-0.42</td>\n      <td>-0.67%</td>\n      <td>2.28 M</td>\n      <td>46.79 - 65.64</td>\n    </tr>\n    <tr>\n      <th>13</th>\n      <td>EIX</td>\n      <td>Edison Intl</td>\n      <td>2.68%</td>\n      <td>83.01</td>\n      <td>-1.44</td>\n      <td>-1.71%</td>\n      <td>1.83 M</td>\n      <td>61.64 - 88.77</td>\n    </tr>\n    <tr>\n      <th>14</th>\n      <td>WEC</td>\n      <td>WEC Energy Group Inc</td>\n      <td>2.48%</td>\n      <td>93.95</td>\n      <td>-0.36</td>\n      <td>-0.38%</td>\n      <td>3.26 M</td>\n      <td>75.13 - 97.08</td>\n    </tr>\n    <tr>\n      <th>15</th>\n      <td>ETR</td>\n      <td>Entergy Corp</td>\n      <td>2.31%</td>\n      <td>129.06</td>\n      <td>-0.99</td>\n      <td>-0.76%</td>\n      <td>1.15 M</td>\n      <td>90.78 - 133.38</td>\n    </tr>\n    <tr>\n      <th>16</th>\n      <td>AWK</td>\n      <td>American Water Works Co Inc</td>\n      <td>2.22%</td>\n      <td>136.22</td>\n      <td>0.04</td>\n      <td>+0.03%</td>\n      <td>0.88 M</td>\n      <td>113.34 - 150.68</td>\n    </tr>\n    <tr>\n      <th>17</th>\n      <td>DTE</td>\n      <td>DTE Energy Co</td>\n      <td>2.14%</td>\n      <td>123.68</td>\n      <td>-0.84</td>\n      <td>-0.67%</td>\n      <td>0.79 M</td>\n      <td>92.58 - 129.53</td>\n    </tr>\n    <tr>\n      <th>18</th>\n      <td>PPL</td>\n      <td>PPL Corp</td>\n      <td>1.94%</td>\n      <td>31.47</td>\n      <td>-0.38</td>\n      <td>-1.19%</td>\n      <td>6.52 M</td>\n      <td>23.36 - 33.39</td>\n    </tr>\n    <tr>\n      <th>19</th>\n      <td>AEE</td>\n      <td>Ameren Corp</td>\n      <td>1.91%</td>\n      <td>85.81</td>\n      <td>-0.57</td>\n      <td>-0.66%</td>\n      <td>1.19 M</td>\n      <td>67.03 - 88.11</td>\n    </tr>\n    <tr>\n      <th>20</th>\n      <td>ES</td>\n      <td>Eversource Energy</td>\n      <td>1.91%</td>\n      <td>63.86</td>\n      <td>0.47</td>\n      <td>+0.74%</td>\n      <td>2.09 M</td>\n      <td>52.03 - 69.01</td>\n    </tr>\n    <tr>\n      <th>21</th>\n      <td>FE</td>\n      <td>FirstEnergy Corp</td>\n      <td>1.81%</td>\n      <td>42.33</td>\n      <td>-0.22</td>\n      <td>-0.52%</td>\n      <td>2.05 M</td>\n      <td>34.73 - 44.97</td>\n    </tr>\n    <tr>\n      <th>22</th>\n      <td>ATO</td>\n      <td>Atmos Energy Corp</td>\n      <td>1.79%</td>\n      <td>138.20</td>\n      <td>0.16</td>\n      <td>+0.12%</td>\n      <td>0.58 M</td>\n      <td>105.45 - 140.04</td>\n    </tr>\n    <tr>\n      <th>23</th>\n      <td>CMS</td>\n      <td>CMS Energy Corp</td>\n      <td>1.73%</td>\n      <td>69.14</td>\n      <td>-0.48</td>\n      <td>-0.69%</td>\n      <td>1.49 M</td>\n      <td>52.12 - 71.57</td>\n    </tr>\n    <tr>\n      <th>24</th>\n      <td>CNP</td>\n      <td>Centerpoint Energy Inc</td>\n      <td>1.61%</td>\n      <td>29.49</td>\n      <td>0.00</td>\n      <td>0.00%</td>\n      <td>5.7 M</td>\n      <td>25.41 - 31.57</td>\n    </tr>\n    <tr>\n      <th>25</th>\n      <td>NRG</td>\n      <td>NRG Energy</td>\n      <td>1.51%</td>\n      <td>87.60</td>\n      <td>-0.96</td>\n      <td>-1.08%</td>\n      <td>1.83 M</td>\n      <td>39.98 - 96.40</td>\n    </tr>\n    <tr>\n      <th>26</th>\n      <td>NI</td>\n      <td>Nisource Inc</td>\n      <td>1.26%</td>\n      <td>33.74</td>\n      <td>-0.25</td>\n      <td>-0.74%</td>\n      <td>1.79 M</td>\n      <td>24.58 - 35.10</td>\n    </tr>\n    <tr>\n      <th>27</th>\n      <td>LNT</td>\n      <td>Alliant Energy Corp</td>\n      <td>1.26%</td>\n      <td>58.98</td>\n      <td>-0.58</td>\n      <td>-0.97%</td>\n      <td>1.1 M</td>\n      <td>46.80 - 61.09</td>\n    </tr>\n    <tr>\n      <th>28</th>\n      <td>EVRG</td>\n      <td>Evergy Inc.</td>\n      <td>1.13%</td>\n      <td>59.06</td>\n      <td>-0.51</td>\n      <td>-0.86%</td>\n      <td>1.6 M</td>\n      <td>47.46 - 62.58</td>\n    </tr>\n    <tr>\n      <th>29</th>\n      <td>AES</td>\n      <td>AES Corp</td>\n      <td>1.03%</td>\n      <td>17.33</td>\n      <td>-0.36</td>\n      <td>-2.04%</td>\n      <td>7.46 M</td>\n      <td>12.87 - 22.21</td>\n    </tr>\n    <tr>\n      <th>30</th>\n      <td>PNW</td>\n      <td>Pinnacle West Capital (AZ)</td>\n      <td>0.81%</td>\n      <td>85.52</td>\n      <td>-0.67</td>\n      <td>-0.78%</td>\n      <td>0.66 M</td>\n      <td>65.20 - 91.57</td>\n    </tr>\n  </tbody>\n</table>\n</div>"
     },
     "execution_count": 51,
     "metadata": {},
     "output_type": "execute_result"
    }
   ],
   "source": [
    "holdings_df = pd.read_csv(f'Data/index-holdings-{ticker.lower()}.csv', header=1)\n",
    "holdings_df"
   ],
   "metadata": {
    "collapsed": false,
    "ExecuteTime": {
     "end_time": "2024-10-11T04:51:43.726073Z",
     "start_time": "2024-10-11T04:51:43.708268Z"
    }
   },
   "id": "cc1dfd4676d46678",
   "execution_count": 51
  },
  {
   "cell_type": "code",
   "outputs": [],
   "source": [
    "def get_yahoo_data(ticker='XLF', start_date='2024-8-1', most_recent_friday=True, end_date='2023-12-31'):\n",
    "    data_hold=yf.Ticker(ticker)\n",
    "    \n",
    "    if most_recent_friday:\n",
    "        today = datetime.now()\n",
    "        days_since_friday = (today.weekday() - 4) % 7\n",
    "        last_friday = today - timedelta(days=days_since_friday)\n",
    "        end_date = (last_friday.date() + timedelta(days=1)).strftime('%Y-%m-%d')\n",
    "        \n",
    "    price_df=data_hold.history(start=start_date,  end=end_date, interval='1h')[['Open','High','Low','Close','Volume']]\n",
    "    \n",
    "    price_df.name=ticker\n",
    "    \n",
    "    price_df['Return'] = price_df.Close.pct_change()\n",
    "    price_df['Cumulative_Ret'] = (price_df['Return'] + 1).cumprod()\n",
    "    \n",
    "    price_df.at[price_df.index[0], 'Cumulative_Ret'] = 1\n",
    "    \n",
    "    return price_df"
   ],
   "metadata": {
    "collapsed": false,
    "ExecuteTime": {
     "end_time": "2024-10-11T04:51:43.739068Z",
     "start_time": "2024-10-11T04:51:43.727172Z"
    }
   },
   "id": "40c9df4985dae548",
   "execution_count": 52
  },
  {
   "cell_type": "code",
   "outputs": [
    {
     "data": {
      "text/plain": "                                Open       High        Low      Close  \\\nDatetime                                                                \n2024-08-01 09:30:00-04:00  76.269997  76.745003  75.900002  76.629997   \n2024-08-01 10:30:00-04:00  76.629997  77.940002  76.629829  77.930000   \n2024-08-01 11:30:00-04:00  77.919998  78.019997  77.370003  77.849998   \n2024-08-01 12:30:00-04:00  77.840103  78.050003  77.760002  77.760002   \n2024-08-01 13:30:00-04:00  77.760002  77.949997  77.639999  77.830002   \n...                              ...        ...        ...        ...   \n2024-10-10 11:30:00-04:00  81.440002  81.764999  81.290001  81.720001   \n2024-10-10 12:30:00-04:00  81.735001  81.745003  80.820000  80.949997   \n2024-10-10 13:30:00-04:00  80.945000  81.309998  80.919998  81.235001   \n2024-10-10 14:30:00-04:00  81.230003  81.245697  80.915001  81.120003   \n2024-10-10 15:30:00-04:00  81.120003  81.290001  80.879997  80.940002   \n\n                            Volume    Return  Cumulative_Ret  \nDatetime                                                      \n2024-08-01 09:30:00-04:00  1687229       NaN        1.000000  \n2024-08-01 10:30:00-04:00  2057480  0.016965        1.016965  \n2024-08-01 11:30:00-04:00  1227763 -0.001027        1.015921  \n2024-08-01 12:30:00-04:00   752640 -0.001156        1.014746  \n2024-08-01 13:30:00-04:00   727561  0.000900        1.015660  \n...                            ...       ...             ...  \n2024-10-10 11:30:00-04:00   639724  0.003438        1.066423  \n2024-10-10 12:30:00-04:00   601334 -0.009422        1.056375  \n2024-10-10 13:30:00-04:00   607796  0.003521        1.060094  \n2024-10-10 14:30:00-04:00   677382 -0.001416        1.058593  \n2024-10-10 15:30:00-04:00  1145020 -0.002219        1.056244  \n\n[350 rows x 7 columns]",
      "text/html": "<div>\n<style scoped>\n    .dataframe tbody tr th:only-of-type {\n        vertical-align: middle;\n    }\n\n    .dataframe tbody tr th {\n        vertical-align: top;\n    }\n\n    .dataframe thead th {\n        text-align: right;\n    }\n</style>\n<table border=\"1\" class=\"dataframe\">\n  <thead>\n    <tr style=\"text-align: right;\">\n      <th></th>\n      <th>Open</th>\n      <th>High</th>\n      <th>Low</th>\n      <th>Close</th>\n      <th>Volume</th>\n      <th>Return</th>\n      <th>Cumulative_Ret</th>\n    </tr>\n    <tr>\n      <th>Datetime</th>\n      <th></th>\n      <th></th>\n      <th></th>\n      <th></th>\n      <th></th>\n      <th></th>\n      <th></th>\n    </tr>\n  </thead>\n  <tbody>\n    <tr>\n      <th>2024-08-01 09:30:00-04:00</th>\n      <td>76.269997</td>\n      <td>76.745003</td>\n      <td>75.900002</td>\n      <td>76.629997</td>\n      <td>1687229</td>\n      <td>NaN</td>\n      <td>1.000000</td>\n    </tr>\n    <tr>\n      <th>2024-08-01 10:30:00-04:00</th>\n      <td>76.629997</td>\n      <td>77.940002</td>\n      <td>76.629829</td>\n      <td>77.930000</td>\n      <td>2057480</td>\n      <td>0.016965</td>\n      <td>1.016965</td>\n    </tr>\n    <tr>\n      <th>2024-08-01 11:30:00-04:00</th>\n      <td>77.919998</td>\n      <td>78.019997</td>\n      <td>77.370003</td>\n      <td>77.849998</td>\n      <td>1227763</td>\n      <td>-0.001027</td>\n      <td>1.015921</td>\n    </tr>\n    <tr>\n      <th>2024-08-01 12:30:00-04:00</th>\n      <td>77.840103</td>\n      <td>78.050003</td>\n      <td>77.760002</td>\n      <td>77.760002</td>\n      <td>752640</td>\n      <td>-0.001156</td>\n      <td>1.014746</td>\n    </tr>\n    <tr>\n      <th>2024-08-01 13:30:00-04:00</th>\n      <td>77.760002</td>\n      <td>77.949997</td>\n      <td>77.639999</td>\n      <td>77.830002</td>\n      <td>727561</td>\n      <td>0.000900</td>\n      <td>1.015660</td>\n    </tr>\n    <tr>\n      <th>...</th>\n      <td>...</td>\n      <td>...</td>\n      <td>...</td>\n      <td>...</td>\n      <td>...</td>\n      <td>...</td>\n      <td>...</td>\n    </tr>\n    <tr>\n      <th>2024-10-10 11:30:00-04:00</th>\n      <td>81.440002</td>\n      <td>81.764999</td>\n      <td>81.290001</td>\n      <td>81.720001</td>\n      <td>639724</td>\n      <td>0.003438</td>\n      <td>1.066423</td>\n    </tr>\n    <tr>\n      <th>2024-10-10 12:30:00-04:00</th>\n      <td>81.735001</td>\n      <td>81.745003</td>\n      <td>80.820000</td>\n      <td>80.949997</td>\n      <td>601334</td>\n      <td>-0.009422</td>\n      <td>1.056375</td>\n    </tr>\n    <tr>\n      <th>2024-10-10 13:30:00-04:00</th>\n      <td>80.945000</td>\n      <td>81.309998</td>\n      <td>80.919998</td>\n      <td>81.235001</td>\n      <td>607796</td>\n      <td>0.003521</td>\n      <td>1.060094</td>\n    </tr>\n    <tr>\n      <th>2024-10-10 14:30:00-04:00</th>\n      <td>81.230003</td>\n      <td>81.245697</td>\n      <td>80.915001</td>\n      <td>81.120003</td>\n      <td>677382</td>\n      <td>-0.001416</td>\n      <td>1.058593</td>\n    </tr>\n    <tr>\n      <th>2024-10-10 15:30:00-04:00</th>\n      <td>81.120003</td>\n      <td>81.290001</td>\n      <td>80.879997</td>\n      <td>80.940002</td>\n      <td>1145020</td>\n      <td>-0.002219</td>\n      <td>1.056244</td>\n    </tr>\n  </tbody>\n</table>\n<p>350 rows × 7 columns</p>\n</div>"
     },
     "execution_count": 53,
     "metadata": {},
     "output_type": "execute_result"
    }
   ],
   "source": [
    "get_yahoo_data(holdings_df.iloc[0,0])"
   ],
   "metadata": {
    "collapsed": false,
    "ExecuteTime": {
     "end_time": "2024-10-11T04:51:43.899353Z",
     "start_time": "2024-10-11T04:51:43.741263Z"
    }
   },
   "id": "756949024201809d",
   "execution_count": 53
  },
  {
   "cell_type": "code",
   "outputs": [],
   "source": [],
   "metadata": {
    "collapsed": false,
    "ExecuteTime": {
     "end_time": "2024-10-11T04:51:43.903038Z",
     "start_time": "2024-10-11T04:51:43.900673Z"
    }
   },
   "id": "a35b6875b9432e1f",
   "execution_count": 53
  }
 ],
 "metadata": {
  "kernelspec": {
   "display_name": "Python 3",
   "language": "python",
   "name": "python3"
  },
  "language_info": {
   "codemirror_mode": {
    "name": "ipython",
    "version": 2
   },
   "file_extension": ".py",
   "mimetype": "text/x-python",
   "name": "python",
   "nbconvert_exporter": "python",
   "pygments_lexer": "ipython2",
   "version": "2.7.6"
  }
 },
 "nbformat": 4,
 "nbformat_minor": 5
}
